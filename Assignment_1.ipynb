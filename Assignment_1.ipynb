{
 "cells": [
  {
   "cell_type": "code",
   "execution_count": 2,
   "metadata": {},
   "outputs": [],
   "source": [
    "import numpy as np"
   ]
  },
  {
   "cell_type": "code",
   "execution_count": 3,
   "metadata": {},
   "outputs": [
    {
     "data": {
      "text/plain": [
       "array([0, 1, 2, 3, 4, 5, 6, 7, 8])"
      ]
     },
     "execution_count": 3,
     "metadata": {},
     "output_type": "execute_result"
    }
   ],
   "source": [
    "#1#arange()\n",
    "list1 = np.arange(3*3)\n",
    "list1"
   ]
  },
  {
   "cell_type": "code",
   "execution_count": 5,
   "metadata": {},
   "outputs": [
    {
     "data": {
      "text/plain": [
       "array([[0, 1, 2],\n",
       "       [3, 4, 5],\n",
       "       [6, 7, 8]])"
      ]
     },
     "execution_count": 5,
     "metadata": {},
     "output_type": "execute_result"
    }
   ],
   "source": [
    "#2#reshape()\n",
    "list1 = list1.reshape(3,3)\n",
    "list1"
   ]
  },
  {
   "cell_type": "code",
   "execution_count": 128,
   "metadata": {},
   "outputs": [
    {
     "data": {
      "text/plain": [
       "array([[1, 2, 3],\n",
       "       [4, 5, 6],\n",
       "       [7, 8, 9]])"
      ]
     },
     "execution_count": 128,
     "metadata": {},
     "output_type": "execute_result"
    }
   ],
   "source": [
    "#3#sort()\n",
    "np.sort(list1)"
   ]
  },
  {
   "cell_type": "code",
   "execution_count": 8,
   "metadata": {},
   "outputs": [
    {
     "data": {
      "text/plain": [
       "array([0, 1, 2, 3, 4, 5, 6, 7, 8])"
      ]
     },
     "execution_count": 8,
     "metadata": {},
     "output_type": "execute_result"
    }
   ],
   "source": [
    "np.sort(list1, axis=None)"
   ]
  },
  {
   "cell_type": "code",
   "execution_count": 41,
   "metadata": {},
   "outputs": [
    {
     "data": {
      "text/plain": [
       "array([[1, 2, 3],\n",
       "       [4, 5, 6],\n",
       "       [7, 8, 9]])"
      ]
     },
     "execution_count": 41,
     "metadata": {},
     "output_type": "execute_result"
    }
   ],
   "source": [
    "list1 = np.arange(1,10).reshape(3,3)\n",
    "list1"
   ]
  },
  {
   "cell_type": "code",
   "execution_count": 129,
   "metadata": {},
   "outputs": [
    {
     "data": {
      "text/plain": [
       "array([[1, 2, 3],\n",
       "       [4, 5, 6],\n",
       "       [7, 8, 9]])"
      ]
     },
     "execution_count": 129,
     "metadata": {},
     "output_type": "execute_result"
    }
   ],
   "source": [
    "#4#array\n",
    "list2 = np.array=([1,2,3],\n",
    "                 [4,5,6],\n",
    "                 [7,9,8])\n",
    "np.sort(list2)"
   ]
  },
  {
   "cell_type": "code",
   "execution_count": 48,
   "metadata": {},
   "outputs": [],
   "source": [
    "#5#concatenate()\n",
    "list3 = np.concatenate((list1, list2))"
   ]
  },
  {
   "cell_type": "code",
   "execution_count": 130,
   "metadata": {},
   "outputs": [
    {
     "data": {
      "text/plain": [
       "2"
      ]
     },
     "execution_count": 130,
     "metadata": {},
     "output_type": "execute_result"
    }
   ],
   "source": [
    "#6#ndim()\n",
    "list3.ndim"
   ]
  },
  {
   "cell_type": "code",
   "execution_count": 52,
   "metadata": {},
   "outputs": [
    {
     "data": {
      "text/plain": [
       "18"
      ]
     },
     "execution_count": 52,
     "metadata": {},
     "output_type": "execute_result"
    }
   ],
   "source": [
    "#7#size()\n",
    "list3.size"
   ]
  },
  {
   "cell_type": "code",
   "execution_count": 55,
   "metadata": {},
   "outputs": [
    {
     "name": "stdout",
     "output_type": "stream",
     "text": [
      "[[1 2 3]\n",
      " [4 5 6]\n",
      " [7 8 9]\n",
      " [1 2 3]\n",
      " [4 5 6]\n",
      " [7 9 8]]\n"
     ]
    },
    {
     "data": {
      "text/plain": [
       "(6, 3)"
      ]
     },
     "execution_count": 55,
     "metadata": {},
     "output_type": "execute_result"
    }
   ],
   "source": [
    "#8#shape()\n",
    "print(list3)\n",
    "list3.shape"
   ]
  },
  {
   "cell_type": "code",
   "execution_count": 57,
   "metadata": {},
   "outputs": [
    {
     "data": {
      "text/plain": [
       "array([[1, 2, 3, 1, 2, 3],\n",
       "       [4, 5, 6, 4, 5, 6],\n",
       "       [7, 8, 9, 7, 9, 8]])"
      ]
     },
     "execution_count": 57,
     "metadata": {},
     "output_type": "execute_result"
    }
   ],
   "source": [
    "#9#hstack()\n",
    "np.hstack((list1, list2))"
   ]
  },
  {
   "cell_type": "code",
   "execution_count": 60,
   "metadata": {},
   "outputs": [
    {
     "data": {
      "text/plain": [
       "array([[1, 2, 3],\n",
       "       [4, 5, 6],\n",
       "       [7, 8, 9],\n",
       "       [1, 2, 3],\n",
       "       [4, 5, 6],\n",
       "       [7, 9, 8]])"
      ]
     },
     "execution_count": 60,
     "metadata": {},
     "output_type": "execute_result"
    }
   ],
   "source": [
    "#10#vstack()\n",
    "list4 = np.vstack((list1, list2))\n",
    "list4"
   ]
  },
  {
   "cell_type": "code",
   "execution_count": 63,
   "metadata": {},
   "outputs": [
    {
     "data": {
      "text/plain": [
       "array([1, 1, 2, 2, 3, 3, 4, 4, 5, 5, 6, 6, 7, 7, 8, 8, 9, 9])"
      ]
     },
     "execution_count": 63,
     "metadata": {},
     "output_type": "execute_result"
    }
   ],
   "source": [
    "list5 = np.sort(list4, axis=None)\n",
    "list5"
   ]
  },
  {
   "cell_type": "code",
   "execution_count": 75,
   "metadata": {},
   "outputs": [
    {
     "data": {
      "text/plain": [
       "[array([1, 1, 2, 2, 3, 3]),\n",
       " array([4, 4, 5, 5, 6, 6]),\n",
       " array([7, 7, 8, 8, 9, 9])]"
      ]
     },
     "execution_count": 75,
     "metadata": {},
     "output_type": "execute_result"
    }
   ],
   "source": [
    "#11#hsplit()\n",
    "list6 = np.hsplit(list5, 3)\n",
    "list6"
   ]
  },
  {
   "cell_type": "code",
   "execution_count": 78,
   "metadata": {},
   "outputs": [
    {
     "data": {
      "text/plain": [
       "1"
      ]
     },
     "execution_count": 78,
     "metadata": {},
     "output_type": "execute_result"
    }
   ],
   "source": [
    "#12#min()\n",
    "np.sort(list6, axis=None).min()"
   ]
  },
  {
   "cell_type": "code",
   "execution_count": 79,
   "metadata": {},
   "outputs": [
    {
     "data": {
      "text/plain": [
       "9"
      ]
     },
     "execution_count": 79,
     "metadata": {},
     "output_type": "execute_result"
    }
   ],
   "source": [
    "#13#max()\n",
    "np.sort(list6, axis=None).max()"
   ]
  },
  {
   "cell_type": "code",
   "execution_count": 80,
   "metadata": {},
   "outputs": [
    {
     "data": {
      "text/plain": [
       "90"
      ]
     },
     "execution_count": 80,
     "metadata": {},
     "output_type": "execute_result"
    }
   ],
   "source": [
    "#14#sum()\n",
    "np.sort(list6, axis=None).sum()"
   ]
  },
  {
   "cell_type": "code",
   "execution_count": 112,
   "metadata": {},
   "outputs": [
    {
     "data": {
      "text/plain": [
       "array([[1., 1., 1., 1.],\n",
       "       [1., 1., 1., 1.],\n",
       "       [1., 1., 1., 1.]])"
      ]
     },
     "execution_count": 112,
     "metadata": {},
     "output_type": "execute_result"
    }
   ],
   "source": [
    "#15#ones\n",
    "np.ones((3,4))"
   ]
  },
  {
   "cell_type": "code",
   "execution_count": 113,
   "metadata": {},
   "outputs": [
    {
     "data": {
      "text/plain": [
       "array([[0., 0., 0., 0.],\n",
       "       [0., 0., 0., 0.],\n",
       "       [0., 0., 0., 0.]])"
      ]
     },
     "execution_count": 113,
     "metadata": {},
     "output_type": "execute_result"
    }
   ],
   "source": [
    "#16#zeros()\n",
    "np.zeros((3,4))"
   ]
  },
  {
   "cell_type": "code",
   "execution_count": 117,
   "metadata": {},
   "outputs": [
    {
     "data": {
      "text/plain": [
       "array([[0.8642415 , 0.30415095, 0.93280235, 0.17808311],\n",
       "       [0.80348183, 0.71656492, 0.95954228, 0.68468947],\n",
       "       [0.09524001, 0.59634691, 0.66163585, 0.60398832]])"
      ]
     },
     "execution_count": 117,
     "metadata": {},
     "output_type": "execute_result"
    }
   ],
   "source": [
    "#17#random.rand()\n",
    "random_num1 = np.random.rand(3, 4)\n",
    "random_num1"
   ]
  },
  {
   "cell_type": "code",
   "execution_count": 118,
   "metadata": {},
   "outputs": [
    {
     "data": {
      "text/plain": [
       "array([[0.8642415 , 0.80348183, 0.09524001],\n",
       "       [0.30415095, 0.71656492, 0.59634691],\n",
       "       [0.93280235, 0.95954228, 0.66163585],\n",
       "       [0.17808311, 0.68468947, 0.60398832]])"
      ]
     },
     "execution_count": 118,
     "metadata": {},
     "output_type": "execute_result"
    }
   ],
   "source": [
    "#18#transpose()\n",
    "random_num1.transpose()"
   ]
  },
  {
   "cell_type": "code",
   "execution_count": 131,
   "metadata": {},
   "outputs": [
    {
     "name": "stdout",
     "output_type": "stream",
     "text": [
      "[[0.8642415  0.30415095 0.93280235 0.17808311]\n",
      " [0.80348183 0.71656492 0.95954228 0.68468947]\n",
      " [0.09524001 0.59634691 0.66163585 0.60398832]]\n",
      "\n",
      "flip it!!!\n",
      "[[0.60398832 0.66163585 0.59634691 0.09524001]\n",
      " [0.68468947 0.95954228 0.71656492 0.80348183]\n",
      " [0.17808311 0.93280235 0.30415095 0.8642415 ]]\n",
      "\n",
      "Here You Go....\n"
     ]
    }
   ],
   "source": [
    "#19#flip()\n",
    "print(random_num1)\n",
    "print(\"\\nflip it!!!\")\n",
    "print(np.flip(random_num1))\n",
    "print(\"\\nHere You Go....\")"
   ]
  },
  {
   "cell_type": "code",
   "execution_count": 152,
   "metadata": {},
   "outputs": [],
   "source": [
    "#20#save\n",
    "np.save('random34',random_num1)"
   ]
  },
  {
   "cell_type": "code",
   "execution_count": 173,
   "metadata": {},
   "outputs": [
    {
     "data": {
      "text/plain": [
       "array([[0.8642415 , 0.30415095, 0.93280235, 0.17808311],\n",
       "       [0.80348183, 0.71656492, 0.95954228, 0.68468947],\n",
       "       [0.09524001, 0.59634691, 0.66163585, 0.60398832]])"
      ]
     },
     "execution_count": 173,
     "metadata": {},
     "output_type": "execute_result"
    }
   ],
   "source": [
    "#21#load\n",
    "random_num34 = np.load('random34.npy')\n",
    "random_num34"
   ]
  },
  {
   "cell_type": "code",
   "execution_count": 9,
   "metadata": {},
   "outputs": [],
   "source": [
    "#22#savetxt\n",
    "list7 = [1,2,3,4,5,6,7,8,9]\n",
    "np.savetxt('list7.csv', list7)"
   ]
  },
  {
   "cell_type": "code",
   "execution_count": 10,
   "metadata": {},
   "outputs": [
    {
     "name": "stdout",
     "output_type": "stream",
     "text": [
      "[1. 2. 3. 4. 5. 6. 7. 8. 9.]\n"
     ]
    }
   ],
   "source": [
    "#23#loadtxt\n",
    "list7_csv = np.loadtxt('list7.csv')\n",
    "print(list7_csv)"
   ]
  },
  {
   "cell_type": "code",
   "execution_count": 12,
   "metadata": {},
   "outputs": [
    {
     "data": {
      "text/plain": [
       "[1, 2, 3, 4, 5, 6, 7, 8, 9]"
      ]
     },
     "execution_count": 12,
     "metadata": {},
     "output_type": "execute_result"
    }
   ],
   "source": [
    "#24#copy()\n",
    "list8 = list7.copy()\n",
    "list8"
   ]
  },
  {
   "cell_type": "code",
   "execution_count": 15,
   "metadata": {},
   "outputs": [
    {
     "data": {
      "text/plain": [
       "array([20, 31, 12,  3])"
      ]
     },
     "execution_count": 15,
     "metadata": {},
     "output_type": "execute_result"
    }
   ],
   "source": [
    "#25#choose()\n",
    "choices = [[0, 1, 2, 3], \n",
    "           [10, 11, 12, 13],\n",
    "           [20, 21, 22, 23], \n",
    "           [30, 31, 32, 33]]\n",
    "np.choose([2, 3, 1, 0], choices)"
   ]
  },
  {
   "cell_type": "code",
   "execution_count": 20,
   "metadata": {},
   "outputs": [
    {
     "name": "stdout",
     "output_type": "stream",
     "text": [
      "[[3 4]]\n",
      "-------\n",
      "[[2]\n",
      " [4]\n",
      " [6]]\n"
     ]
    }
   ],
   "source": [
    "#26#compress()\n",
    "a = np.array([[1, 2], [3, 4], [5, 6]])\n",
    "print(np.compress([0, 1], a, axis=0))\n",
    "print(\"-------\")\n",
    "print(np.compress([False, True], a, axis=1))\n"
   ]
  },
  {
   "cell_type": "code",
   "execution_count": 22,
   "metadata": {},
   "outputs": [
    {
     "data": {
      "text/plain": [
       "array([ 1,  2,  6, 24], dtype=int32)"
      ]
     },
     "execution_count": 22,
     "metadata": {},
     "output_type": "execute_result"
    }
   ],
   "source": [
    "#27#cumprod()#cumulative product\n",
    "a = np.array([1,2,3,4])\n",
    "np.cumprod(a)"
   ]
  },
  {
   "cell_type": "code",
   "execution_count": 25,
   "metadata": {},
   "outputs": [
    {
     "data": {
      "text/plain": [
       "array([ 1,  3,  6, 10, 15, 21], dtype=int32)"
      ]
     },
     "execution_count": 25,
     "metadata": {},
     "output_type": "execute_result"
    }
   ],
   "source": [
    "#28#cumsum#cumulative sum\n",
    "a = np.array([1,2,3,4,5,6])\n",
    "np.cumsum(a)"
   ]
  },
  {
   "cell_type": "code",
   "execution_count": 28,
   "metadata": {},
   "outputs": [
    {
     "data": {
      "text/plain": [
       "12"
      ]
     },
     "execution_count": 28,
     "metadata": {},
     "output_type": "execute_result"
    }
   ],
   "source": [
    "#29#inner() product of vectors\n",
    "a = np.array([1,2,3])\n",
    "b = np.array([2,2,2])\n",
    "np.inner(a, b)"
   ]
  },
  {
   "cell_type": "code",
   "execution_count": 46,
   "metadata": {},
   "outputs": [
    {
     "data": {
      "text/plain": [
       "array([5, 5])"
      ]
     },
     "execution_count": 46,
     "metadata": {},
     "output_type": "execute_result"
    }
   ],
   "source": [
    "#30#fill() fill all elements with given value\n",
    "a = np.array([3, 2])\n",
    "a.fill(5)\n",
    "a"
   ]
  },
  {
   "cell_type": "code",
   "execution_count": 49,
   "metadata": {},
   "outputs": [
    {
     "name": "stdout",
     "output_type": "stream",
     "text": [
      "[7. 7. 7. 7. 7.]\n"
     ]
    }
   ],
   "source": [
    "#32#empty() create empty array container\n",
    "a = np.empty(5)\n",
    "a.fill(7)\n",
    "print(a)\n"
   ]
  },
  {
   "cell_type": "code",
   "execution_count": 50,
   "metadata": {},
   "outputs": [
    {
     "name": "stdout",
     "output_type": "stream",
     "text": [
      "[2. 4. 6.]\n",
      "-----\n",
      "[1. +8.j 3.+10.j 5.+12.j]\n"
     ]
    }
   ],
   "source": [
    "#33#imag()#Return the imaginary part of the complex argument.\n",
    "a = np.array([1+2j, 3+4j, 5+6j])\n",
    "print(a.imag)\n",
    "print(\"-----\")\n",
    "a.imag = np.array([8, 10, 12])\n",
    "print(a)"
   ]
  },
  {
   "cell_type": "code",
   "execution_count": 51,
   "metadata": {},
   "outputs": [
    {
     "data": {
      "text/plain": [
       "24.0"
      ]
     },
     "execution_count": 51,
     "metadata": {},
     "output_type": "execute_result"
    }
   ],
   "source": [
    "#34#prod()\n",
    "np.prod([[1.,2.],[3.,4.]])"
   ]
  },
  {
   "cell_type": "code",
   "execution_count": 54,
   "metadata": {},
   "outputs": [
    {
     "name": "stdout",
     "output_type": "stream",
     "text": [
      "[0 1 2 3 4]\n",
      "[-44   1 -55   3   4]\n"
     ]
    }
   ],
   "source": [
    "#35#put() put the values in positions where match\n",
    "a = np.arange(5)\n",
    "print(a)\n",
    "np.put(a, [0, 2], [-44, -55])\n",
    "print(a)"
   ]
  },
  {
   "cell_type": "code",
   "execution_count": 58,
   "metadata": {},
   "outputs": [
    {
     "name": "stdout",
     "output_type": "stream",
     "text": [
      "[[0 1 2]\n",
      " [3 4 5]]\n",
      "-----\n",
      "[[ 0  1  2]\n",
      " [ 9 16 25]]\n"
     ]
    }
   ],
   "source": [
    "#36#putmask()#Changes elements of an array based on conditional and input values\n",
    "x = np.arange(6).reshape(2, 3)\n",
    "print(x)\n",
    "np.putmask(x, x>2, x**2)\n",
    "print(\"-----\")\n",
    "print(x)"
   ]
  },
  {
   "cell_type": "code",
   "execution_count": 59,
   "metadata": {},
   "outputs": [
    {
     "data": {
      "text/plain": [
       "array([1., 3., 5.])"
      ]
     },
     "execution_count": 59,
     "metadata": {},
     "output_type": "execute_result"
    }
   ],
   "source": [
    "#37#real()#Return the real part of the complex argument\n",
    "a = np.array([1+2j, 3+4j, 5+6j])\n",
    "a.real"
   ]
  },
  {
   "cell_type": "code",
   "execution_count": 61,
   "metadata": {},
   "outputs": [
    {
     "name": "stdout",
     "output_type": "stream",
     "text": [
      "[[1 2 3 4]\n",
      " [4 3 2 1]]\n",
      "-----\n"
     ]
    },
    {
     "data": {
      "text/plain": [
       "array([[ 1.66666667, -1.66666667],\n",
       "       [-1.66666667,  1.66666667]])"
      ]
     },
     "execution_count": 61,
     "metadata": {},
     "output_type": "execute_result"
    }
   ],
   "source": [
    "#38#cov()#Estimate a covariance matrix between variables\n",
    "x = np.array([[1, 4], [2, 3], [3, 2], [4, 1]]).T\n",
    "print(x)\n",
    "print(\"-----\")\n",
    "np.cov(x)\n"
   ]
  },
  {
   "cell_type": "code",
   "execution_count": 65,
   "metadata": {},
   "outputs": [
    {
     "name": "stdout",
     "output_type": "stream",
     "text": [
      "[[ 1  2  3  4]\n",
      " [ 5  6  7  8]\n",
      " [ 9 10 11 12]\n",
      " [13 14 15 16]]\n",
      "------\n",
      "[ 7.  8.  9. 10.]\n",
      "------\n",
      "[ 2.5  6.5 10.5 14.5]\n"
     ]
    }
   ],
   "source": [
    "#39#mean#Compute the arithmetic mean along the given axis\n",
    "a = np.arange(1,17).reshape(4,4)\n",
    "print(a)\n",
    "print(\"------\")\n",
    "print(np.mean(a, axis=0))\n",
    "print(\"------\")\n",
    "print(np.mean(a, axis=1))"
   ]
  },
  {
   "cell_type": "code",
   "execution_count": 66,
   "metadata": {},
   "outputs": [
    {
     "name": "stdout",
     "output_type": "stream",
     "text": [
      "[[ 1  2  3  4]\n",
      " [ 5  6  7  8]\n",
      " [ 9 10 11 12]\n",
      " [13 14 15 16]]\n",
      "------\n",
      "[4.47213595 4.47213595 4.47213595 4.47213595]\n",
      "------\n",
      "[1.11803399 1.11803399 1.11803399 1.11803399]\n"
     ]
    }
   ],
   "source": [
    "#40#std()#Compute the standard deviation along the specified axis\n",
    "a = np.arange(1,17).reshape(4,4)\n",
    "print(a)\n",
    "print(\"------\")\n",
    "print(np.std(a, axis=0))\n",
    "print(\"------\")\n",
    "print(np.std(a, axis=1))"
   ]
  },
  {
   "cell_type": "code",
   "execution_count": 76,
   "metadata": {},
   "outputs": [
    {
     "name": "stdout",
     "output_type": "stream",
     "text": [
      "[[ 1  2  3  4  5  6  7  8]\n",
      " [ 9 10 11 12 13 14 15 16]\n",
      " [17 18 19 20 21 22 23 24]\n",
      " [25 26 27 28 29 30 31 32]\n",
      " [33 34 35 36 37 38 39 40]\n",
      " [41 42 43 44 45 46 47 48]\n",
      " [49 50 51 52 53 54 55 56]\n",
      " [57 58 59 60 61 62 63 64]]\n",
      "------\n",
      "[336. 336. 336. 336. 336. 336. 336. 336.]\n",
      "------\n",
      "[5.25 5.25 5.25 5.25 5.25 5.25 5.25 5.25]\n"
     ]
    }
   ],
   "source": [
    "#41#var()#Compute the variance along the specified axis\n",
    "a = np.arange(1,65).reshape(8,8)\n",
    "print(a)\n",
    "print(\"------\")\n",
    "print(np.var(a, axis=0))\n",
    "print(\"------\")\n",
    "print(np.var(a, axis=1))"
   ]
  },
  {
   "cell_type": "code",
   "execution_count": 86,
   "metadata": {},
   "outputs": [
    {
     "data": {
      "text/plain": [
       "array([ 1, -2,  1])"
      ]
     },
     "execution_count": 86,
     "metadata": {},
     "output_type": "execute_result"
    }
   ],
   "source": [
    "#42#cross()#Return the cross product of two (arrays of) vectors\n",
    "x = [1, 1, 1]\n",
    "y = [1, 2, 3]\n",
    "np.cross(x, y)"
   ]
  },
  {
   "cell_type": "code",
   "execution_count": 83,
   "metadata": {},
   "outputs": [
    {
     "data": {
      "text/plain": [
       "6"
      ]
     },
     "execution_count": 83,
     "metadata": {},
     "output_type": "execute_result"
    }
   ],
   "source": [
    "#43#dot()#Dot product of two arrays. Specifically\n",
    "x = [1, 1, 1]\n",
    "y = [1, 2, 3]\n",
    "np.dot(x, y)"
   ]
  },
  {
   "cell_type": "code",
   "execution_count": 87,
   "metadata": {},
   "outputs": [
    {
     "data": {
      "text/plain": [
       "array([['a', 'aa', 'aaaa'],\n",
       "       ['b', 'bb', 'bbbb'],\n",
       "       ['c', 'cc', 'cccc']], dtype=object)"
      ]
     },
     "execution_count": 87,
     "metadata": {},
     "output_type": "execute_result"
    }
   ],
   "source": [
    "#44#outer()#Compute the outer product of two vectors\n",
    "x = np.array(['a', 'b', 'c'], dtype=object)\n",
    "np.outer(x, [1, 2, 4])"
   ]
  },
  {
   "cell_type": "code",
   "execution_count": 88,
   "metadata": {},
   "outputs": [
    {
     "data": {
      "text/plain": [
       "6"
      ]
     },
     "execution_count": 88,
     "metadata": {},
     "output_type": "execute_result"
    }
   ],
   "source": [
    "#45#vdot()#Return the dot product of two vectors\n",
    "x = [1, 1, 1]\n",
    "y = [1, 2, 3]\n",
    "np.vdot(x, y)"
   ]
  },
  {
   "cell_type": "code",
   "execution_count": 89,
   "metadata": {},
   "outputs": [
    {
     "data": {
      "text/plain": [
       "array([[1., 0., 0., 0., 0., 0., 0., 0.],\n",
       "       [0., 1., 0., 0., 0., 0., 0., 0.],\n",
       "       [0., 0., 1., 0., 0., 0., 0., 0.],\n",
       "       [0., 0., 0., 1., 0., 0., 0., 0.],\n",
       "       [0., 0., 0., 0., 1., 0., 0., 0.],\n",
       "       [0., 0., 0., 0., 0., 1., 0., 0.],\n",
       "       [0., 0., 0., 0., 0., 0., 1., 0.],\n",
       "       [0., 0., 0., 0., 0., 0., 0., 1.]])"
      ]
     },
     "execution_count": 89,
     "metadata": {},
     "output_type": "execute_result"
    }
   ],
   "source": [
    "#46#identity()#Return the identity array\n",
    "np.identity(8)"
   ]
  },
  {
   "cell_type": "code",
   "execution_count": 92,
   "metadata": {},
   "outputs": [
    {
     "name": "stdout",
     "output_type": "stream",
     "text": [
      "[ True False]\n",
      "------\n",
      "[False  True]\n"
     ]
    }
   ],
   "source": [
    "#47#all()#Test whether all array elements along a given axis evaluate to True\n",
    "print(np.all([[True,False],[True,True]], axis=0))\n",
    "print(\"------\")\n",
    "print(np.all([[True,False],[True,True]], axis=1))"
   ]
  },
  {
   "cell_type": "code",
   "execution_count": 93,
   "metadata": {},
   "outputs": [
    {
     "name": "stdout",
     "output_type": "stream",
     "text": [
      "[ True  True]\n",
      "------\n",
      "[ True  True]\n"
     ]
    }
   ],
   "source": [
    "#48#any()#test whether any array element along a given axis evaluates to True\n",
    "print(np.any([[True,False],[True,True]], axis=0))\n",
    "print(\"------\")\n",
    "print(np.any([[True,False],[True,True]], axis=1))"
   ]
  },
  {
   "cell_type": "code",
   "execution_count": 95,
   "metadata": {},
   "outputs": [
    {
     "name": "stdout",
     "output_type": "stream",
     "text": [
      "[[3 0 0]\n",
      " [0 4 0]\n",
      " [5 6 0]]\n",
      "------\n",
      "(array([0, 1, 2, 2], dtype=int64), array([0, 1, 0, 1], dtype=int64))\n"
     ]
    }
   ],
   "source": [
    "#49#Return the indices of the elements that are non-zero\n",
    "x = np.array([[3, 0, 0], [0, 4, 0], [5, 6, 0]])\n",
    "print(x)\n",
    "print(\"------\")\n",
    "print(np.nonzero(x))\n"
   ]
  },
  {
   "cell_type": "code",
   "execution_count": 96,
   "metadata": {},
   "outputs": [
    {
     "name": "stdout",
     "output_type": "stream",
     "text": [
      "[0 1 2 3 4 5 6 7 8 9]\n",
      "------\n",
      "[ 0  1  2  3  4 50 60 70 80 90]\n"
     ]
    }
   ],
   "source": [
    "#50#where()#Return elements chosen from x or y depending on condition\n",
    "a = np.arange(10)\n",
    "print(a)\n",
    "print(\"------\")\n",
    "print(np.where(a < 5, a, 10*a))"
   ]
  },
  {
   "cell_type": "code",
   "execution_count": null,
   "metadata": {},
   "outputs": [],
   "source": []
  }
 ],
 "metadata": {
  "kernelspec": {
   "display_name": "Python 3",
   "language": "python",
   "name": "python3"
  },
  "language_info": {
   "codemirror_mode": {
    "name": "ipython",
    "version": 3
   },
   "file_extension": ".py",
   "mimetype": "text/x-python",
   "name": "python",
   "nbconvert_exporter": "python",
   "pygments_lexer": "ipython3",
   "version": "3.8.5"
  }
 },
 "nbformat": 4,
 "nbformat_minor": 4
}
